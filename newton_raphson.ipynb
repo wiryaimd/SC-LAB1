{
 "cells": [
  {
   "cell_type": "code",
   "execution_count": 1,
   "metadata": {},
   "outputs": [],
   "source": [
    "# source scientific computing ->>> python numerical memthods\n",
    "\n",
    "# materi persamaan akar (root equation)\n",
    "\n",
    "# method:\n",
    "# * bisection method\n",
    "# mencari nilai akar dari sebuah nilai a dan b (dari fungsi yg diberikan)\n",
    "# * newton-raphson method\n",
    "\n",
    "# step (bisection method)\n",
    "#1.  menyiapkan nilai a dan b (batas bawah dan atas (nilai y))\n",
    "# nilai dari f(A) dan f(B) tidak boleh berada di daerah yg sama (tidak boleh berada pada sumbu yg sama (positive/negative))\n",
    "\n",
    "#2. menyiapkan function\n",
    "#3. menghitung dengan bisection method\n",
    "\n",
    "\n",
    "\n"
   ]
  },
  {
   "cell_type": "code",
   "execution_count": 2,
   "metadata": {},
   "outputs": [],
   "source": [
    "import numpy as np"
   ]
  },
  {
   "cell_type": "code",
   "execution_count": 3,
   "metadata": {},
   "outputs": [],
   "source": [
    "# function f(x) = y yg diberikan untuk melakukan perhitungan\n",
    "def f(x):\n",
    "    # x^2 - 5\n",
    "    return x**2 - 5;\n",
    "\n"
   ]
  },
  {
   "cell_type": "code",
   "execution_count": 4,
   "metadata": {},
   "outputs": [],
   "source": [
    "# melakukan perhitungan bisection\n",
    "# a = batas bawah, b batas bawah, dan param tolerance dgn default val 0.01\n",
    "def bisection_method(a, b, tolerance = 0.01):\n",
    "\n",
    "    # np.sign() # untuk cek jika x < 0 maka ret -1, jika x == 0, ret 0, jika x > 0 ret 1\n",
    "    if(np.sign(f(a)) == np.sign(f(b))):\n",
    "        print(\"invalid coordinate\")\n",
    "        return\n",
    "    \n",
    "    # mencari titik tengah (rumus)\n",
    "    c = (a + b) / 2\n",
    "\n",
    "    # cek nilai c jika dimasukan ke dalam fungsi\n",
    "    if(np.abs(f(c)) < tolerance): # jika hasil f(c) sudah dibawah toleransi, maka ret hasilnya\n",
    "        print(\"root = \", c)\n",
    "        return\n",
    "    \n",
    "    # hitung ulang (recursive) jika belum memenuhi tolerance\n",
    "    # jika hasil dari f(c) daerah kuadrannya (positive/neg) sama dengan f(a), maka nilai a diganti dengan nilai c\n",
    "    # jika hasil f(c) daerah kuadrannya == f(b) maka param b diganti dengan param c untuk pemanggilan recursivenya\n",
    "    if(np.sign(f(c)) == np.sign(f(a))):\n",
    "        bisection_method(c, b) # param tolerance tidak perlu dimasukan karena sudah ada default value\n",
    "    elif(np.sign(f(c)) == np.sign(f(b))):\n",
    "        bisection_method(a, c)\n",
    "\n",
    "\n",
    "\n",
    "\n",
    "    pass # ?"
   ]
  },
  {
   "cell_type": "code",
   "execution_count": 5,
   "metadata": {},
   "outputs": [
    {
     "name": "stdout",
     "output_type": "stream",
     "text": [
      "root =  2.234375\n"
     ]
    }
   ],
   "source": [
    "\n",
    "# pemanggilan bisection method\n",
    "bisection_method(2, 5)\n",
    "\n",
    "\n",
    "\n"
   ]
  },
  {
   "cell_type": "code",
   "execution_count": 6,
   "metadata": {},
   "outputs": [],
   "source": [
    "# newton-raphson method\n",
    "\n",
    "# step\n",
    "# 1. tentukan nilai x0 yg digunakan untuk mencari nilai x1\n",
    "# 2. rumus:\n",
    "#    x1 = x0 - f(x0) / f'(x0)\n",
    "#   dimana f'(x0) adalah turunan dari f(x0)"
   ]
  },
  {
   "cell_type": "code",
   "execution_count": 7,
   "metadata": {},
   "outputs": [],
   "source": [
    "# menentukan fungsi yg diberikan\n",
    "# (biasanya di quiz diberikan fungsi ini saja untuk dihitung)\n",
    "# lalu perlu di turunkan juga untuk mendapat g(x)\n",
    "def f(x):\n",
    "    return x**2 - 5\n",
    "\n",
    "# f'(x)\n",
    "def g(x):\n",
    "    return 2*x # turunan dari f(x)"
   ]
  },
  {
   "cell_type": "code",
   "execution_count": 8,
   "metadata": {},
   "outputs": [],
   "source": [
    "\n",
    "# fungsi newton raphson\n",
    "# dengan param x0 untuk mencari nilai x1\n",
    "def newton_raphson(x0, tolerance = 0.01):\n",
    "\n",
    "    # cari nilai x1\n",
    "    x1 = x0 - f(x0) / g(x0); # pakai rumus yg ada\n",
    "\n",
    "    # masukan nilai f(x1) ke dalam fungsi, apakah sudah memenuhi tolerance\n",
    "    if(np.abs(f(x1)) < tolerance): # kindly note: perlu di abs x1 nya\n",
    "        print(\"root x1: \", x1)\n",
    "        return\n",
    "    \n",
    "    # jika belum memenuhi, maka recursive lagi dengan mengganti x0 menjadi x1\n",
    "    newton_raphson(x1)\n",
    "    "
   ]
  },
  {
   "cell_type": "code",
   "execution_count": 9,
   "metadata": {},
   "outputs": [
    {
     "name": "stdout",
     "output_type": "stream",
     "text": [
      "root x1:  2.236111111111111\n"
     ]
    }
   ],
   "source": [
    "# memanggil fungsi newton raphson\n",
    "newton_raphson(2)"
   ]
  }
 ],
 "metadata": {
  "kernelspec": {
   "display_name": "scientific_computing",
   "language": "python",
   "name": "python3"
  },
  "language_info": {
   "codemirror_mode": {
    "name": "ipython",
    "version": 3
   },
   "file_extension": ".py",
   "mimetype": "text/x-python",
   "name": "python",
   "nbconvert_exporter": "python",
   "pygments_lexer": "ipython3",
   "version": "3.10.8"
  },
  "orig_nbformat": 4
 },
 "nbformat": 4,
 "nbformat_minor": 2
}
