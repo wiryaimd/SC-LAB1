{
 "cells": [
  {
   "cell_type": "code",
   "execution_count": 138,
   "metadata": {},
   "outputs": [],
   "source": [
    "\n",
    "import numpy as np\n",
    "\n",
    "\n"
   ]
  },
  {
   "cell_type": "code",
   "execution_count": 139,
   "metadata": {},
   "outputs": [],
   "source": [
    "\n",
    "def diagonal_dominant(x):\n",
    "    x = np.array(x)\n",
    "    diags = np.diag(np.abs(x))\n",
    "\n",
    "    sumx = np.sum(np.abs(x), axis=1)\n",
    "    non_diags = sumx - diags\n",
    "    # print(non_diags)\n",
    "    \n",
    "    dom = np.all(diags > non_diags)\n",
    "    return dom\n",
    "\n",
    "    # is_dominant = True\n",
    "    # for i in range(3):\n",
    "    #    xi = np.sum(x[i])\n",
    "    #    print(xi - diags[i])\n",
    "    #    if(diags[i] > xi - diags[i]):\n",
    "    #        continue\n",
    "    #    is_dominant = False\n",
    "    #    break\n",
    "    # return is_dominant\n",
    "\n"
   ]
  },
  {
   "cell_type": "code",
   "execution_count": 140,
   "metadata": {},
   "outputs": [],
   "source": [
    "\n",
    "\n",
    "def calc(x, y, t = 15, epsilon = 0.01):\n",
    "    if(not diagonal_dominant(x)):\n",
    "       print(\"not diagonally dominant\")\n",
    "       return\n",
    "\n",
    "    x = np.array(x)\n",
    "    y = np.array(y)\n",
    "\n",
    "    diags_x = np.diag(x)\n",
    "    print(diags_x)\n",
    "\n",
    "    x = -x\n",
    "    np.fill_diagonal(x, 0)\n",
    "    print(x)\n",
    "\n",
    "    curr_x = np.zeros(3)\n",
    "    print(\"mtx \", curr_x)\n",
    "\n",
    "    for i in range(t):\n",
    "        new_x = np.array(curr_x)\n",
    "        for index, row in enumerate(x):\n",
    "            print(\"row \", row)\n",
    "            new_x[index] = (y[index] + np.dot(row, new_x)) / diags_x[index]\n",
    "\n",
    "        print(\"res \", new_x)\n",
    "\n",
    "        dx = np.sqrt(np.dot(new_x - curr_x, new_x - curr_x))\n",
    "        if(dx < epsilon):\n",
    "            print(\"convergen\")\n",
    "            return\n",
    "        \n",
    "        curr_x = new_x\n",
    "\n",
    "    print(\"not convergen\")\n",
    "\n",
    "\n"
   ]
  },
  {
   "cell_type": "code",
   "execution_count": 141,
   "metadata": {},
   "outputs": [
    {
     "name": "stdout",
     "output_type": "stream",
     "text": [
      "[10  6  6]\n",
      "[[ 0 -4 -5]\n",
      " [-1  0 -1]\n",
      " [-3 -1  0]]\n",
      "mtx  [0. 0. 0.]\n",
      "row  [ 0 -4 -5]\n",
      "row  [-1  0 -1]\n",
      "row  [-3 -1  0]\n",
      "res  [0.8  0.7  1.15]\n",
      "row  [ 0 -4 -5]\n",
      "row  [-1  0 -1]\n",
      "row  [-3 -1  0]\n",
      "res  [-0.055       0.65083333  1.58569444]\n",
      "row  [ 0 -4 -5]\n",
      "row  [-1  0 -1]\n",
      "row  [-3 -1  0]\n",
      "res  [-0.25318056  0.61124769  1.69138233]\n",
      "row  [ 0 -4 -5]\n",
      "row  [-1  0 -1]\n",
      "row  [-3 -1  0]\n",
      "res  [-0.29019024  0.59980132  1.7117949 ]\n",
      "row  [ 0 -4 -5]\n",
      "row  [-1  0 -1]\n",
      "row  [-3 -1  0]\n",
      "res  [-0.29581798  0.59733718  1.71501946]\n",
      "convergen\n"
     ]
    }
   ],
   "source": [
    "\n",
    "\n",
    "x = [\n",
    "    [10, 4, 5],\n",
    "    [1, 6, 1],\n",
    "    [3, 1, 6]\n",
    "]\n",
    "\n",
    "y = [8, 5, 10]\n",
    "\n",
    "# dd = diagonal_dominant(x)\n",
    "# print(dd)\n",
    "calc(x, y)\n",
    "\n",
    "# r = np.dot(np.array([1, 2, 3]), np.array([2, 2, 4]));\n",
    "# print(\"r \", r)\n",
    "\n"
   ]
  }
 ],
 "metadata": {
  "kernelspec": {
   "display_name": "Python 3",
   "language": "python",
   "name": "python3"
  },
  "language_info": {
   "codemirror_mode": {
    "name": "ipython",
    "version": 3
   },
   "file_extension": ".py",
   "mimetype": "text/x-python",
   "name": "python",
   "nbconvert_exporter": "python",
   "pygments_lexer": "ipython3",
   "version": "3.10.8"
  }
 },
 "nbformat": 4,
 "nbformat_minor": 2
}
