{
 "cells": [
  {
   "cell_type": "code",
   "execution_count": 47,
   "metadata": {},
   "outputs": [
    {
     "name": "stdout",
     "output_type": "stream",
     "text": [
      "iya  1\n",
      "iya  2\n",
      "iya  -1\n",
      "iya  3\n",
      "iya  4\n",
      "rangek  1\n",
      "rangek  2\n",
      "rangek  -1\n",
      "rangek  3\n",
      "rangek  4\n",
      "hem  0\n",
      "hem  1\n",
      "hem  2\n",
      "hem  3\n",
      "hem  4\n"
     ]
    }
   ],
   "source": [
    "import numpy as np\n",
    "import math\n",
    "\n",
    "x = [1, 2, 3, 4]\n",
    "y = [\n",
    "    [1, 2, 3],\n",
    "    [3, 4, 5],\n",
    "    [6, 7, 8]\n",
    "]\n",
    "\n",
    "\n",
    "\n",
    "lul = np.array(x)\n",
    "lul2 = np.array(y)\n",
    "\n",
    "st = str(\"kntp\")\n",
    "\n",
    "substr = st[3:]\n",
    "alph = substr.upper()\n",
    "alph\n",
    "\n",
    "pw = np.power(2, 4)\n",
    "\n",
    "x[:2]\n",
    "\n",
    "x.insert(2, -1)\n",
    "\n",
    "\n",
    "for crt in x:\n",
    "    print(\"iya \", crt)\n",
    "\n",
    "for i in range(len(x)):\n",
    "    print(\"rangek \", x[i])\n",
    "\n",
    "for i in range(5):\n",
    "    print(\"hem \", i)\n",
    "\n"
   ]
  },
  {
   "cell_type": "code",
   "execution_count": 51,
   "metadata": {},
   "outputs": [
    {
     "name": "stdout",
     "output_type": "stream",
     "text": [
      "[[1 3 6]\n",
      " [2 4 7]\n",
      " [3 5 8]]\n"
     ]
    }
   ],
   "source": [
    "print(lul2.T)\n",
    "\n"
   ]
  },
  {
   "cell_type": "code",
   "execution_count": null,
   "metadata": {},
   "outputs": [],
   "source": [
    "\n",
    "x\n",
    "y\n",
    "\n",
    "diagdom\n",
    "diags x\n",
    "non diags sum xi - diags i\n",
    "\n",
    "x all abs diags i >  absnon diags\n",
    "\n",
    "x = -x\n",
    "\n",
    "fill x diag zero\n",
    "old = np zeros x shape\n",
    "\n",
    "new = old\n",
    "for t times\n",
    "    for index, row, enum x\n",
    "        new i = (yi + dot(new, row)) / diag[i]\n",
    "    dx = sqrt(dot(new - old, new - old))\n",
    "    if(dx < tol):\n",
    "        ret\n",
    "    old = new\n",
    "\n"
   ]
  },
  {
   "cell_type": "code",
   "execution_count": null,
   "metadata": {},
   "outputs": [],
   "source": [
    "\n",
    "x, y\n",
    "A = np.vstack([x, np.ones(3)]).T\n",
    "alpha = np.dot(np.linalg.pinv(A), y)\n",
    "alp[0] = m\n",
    "alp[1] = b\n",
    "y = mx + b\n",
    "# from matplotlib.pyplot import plot as plt\n",
    "# plt.plot()\n"
   ]
  },
  {
   "cell_type": "code",
   "execution_count": null,
   "metadata": {},
   "outputs": [],
   "source": [
    "lr, rr, mid, trapz\n",
    "\n",
    "f\n",
    "a, b\n",
    "n = 3000\n",
    "w = (b - a) / (n - 1)\n",
    "x linespace(a, b, n)\n",
    "lr = w * np.sum(f(x[:-1]))\n",
    "rr = w * np.sum(f(x[1:]))\n",
    "mid = x[1:] + x[:-1]/2\n",
    "mid = w * np sum(f(mid))\n",
    "\n",
    "trapz = w/2 * f(x[0]) + np sum(f(x[1:-1]) * 2) + f(x[n-1])"
   ]
  },
  {
   "cell_type": "code",
   "execution_count": null,
   "metadata": {},
   "outputs": [],
   "source": [
    "newton raph\n",
    "target\n",
    "\n",
    "f\n",
    "h = 1e-5\n",
    "f' = f(x + h) - f(x - h) / (2*h)\n",
    "\n",
    "nr x tol = 0.01\n",
    "    x0 = x - (f(x) / f'(x))\n",
    "    if(np.abs(f(x0)) < tol)\n",
    "        ret\n",
    "    nr(x0)"
   ]
  },
  {
   "cell_type": "code",
   "execution_count": null,
   "metadata": {},
   "outputs": [],
   "source": [
    "bisec a b tol\n",
    "    if(np sign a == np sign b)\n",
    "        ret\n",
    "    c = (b+a)/2\n",
    "    if(np abs f(c) < tol)\n",
    "        ret\n",
    "    \n",
    "    if(np sign c == np sign a)\n",
    "        bisec(c, b)\n",
    "    elif np sign c == np sign b\n",
    "        bisec(a, c)"
   ]
  }
 ],
 "metadata": {
  "kernelspec": {
   "display_name": "Python 3",
   "language": "python",
   "name": "python3"
  },
  "language_info": {
   "codemirror_mode": {
    "name": "ipython",
    "version": 3
   },
   "file_extension": ".py",
   "mimetype": "text/x-python",
   "name": "python",
   "nbconvert_exporter": "python",
   "pygments_lexer": "ipython3",
   "version": "3.10.8"
  }
 },
 "nbformat": 4,
 "nbformat_minor": 2
}
