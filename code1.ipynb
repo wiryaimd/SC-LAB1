{
 "cells": [
  {
   "cell_type": "code",
   "execution_count": 47,
   "metadata": {},
   "outputs": [
    {
     "name": "stdout",
     "output_type": "stream",
     "text": [
      "iya  1\n",
      "iya  2\n",
      "iya  -1\n",
      "iya  3\n",
      "iya  4\n",
      "rangek  1\n",
      "rangek  2\n",
      "rangek  -1\n",
      "rangek  3\n",
      "rangek  4\n",
      "hem  0\n",
      "hem  1\n",
      "hem  2\n",
      "hem  3\n",
      "hem  4\n"
     ]
    }
   ],
   "source": [
    "import numpy as np\n",
    "\n",
    "x = [1, 2, 3, 4]\n",
    "y = [\n",
    "    [1, 2, 3],\n",
    "    [3, 4, 5],\n",
    "    [6, 7, 8]\n",
    "]\n",
    "\n",
    "lul = np.array(x)\n",
    "lul2 = np.array(y)\n",
    "\n",
    "st = str(\"kntp\")\n",
    "\n",
    "substr = st[3:]\n",
    "alph = substr.upper()\n",
    "alph\n",
    "\n",
    "pw = np.power(2, 4)\n",
    "\n",
    "x[:2]\n",
    "\n",
    "x.insert(2, -1)\n",
    "\n",
    "\n",
    "for crt in x:\n",
    "    print(\"iya \", crt)\n",
    "\n",
    "for i in range(len(x)):\n",
    "    print(\"rangek \", x[i])\n",
    "\n",
    "for i in range(5):\n",
    "    print(\"hem \", i)\n",
    "\n"
   ]
  },
  {
   "cell_type": "code",
   "execution_count": 51,
   "metadata": {},
   "outputs": [
    {
     "name": "stdout",
     "output_type": "stream",
     "text": [
      "[[1 3 6]\n",
      " [2 4 7]\n",
      " [3 5 8]]\n"
     ]
    }
   ],
   "source": [
    "print(lul2.T)\n",
    "\n"
   ]
  }
 ],
 "metadata": {
  "kernelspec": {
   "display_name": "Python 3",
   "language": "python",
   "name": "python3"
  },
  "language_info": {
   "codemirror_mode": {
    "name": "ipython",
    "version": 3
   },
   "file_extension": ".py",
   "mimetype": "text/x-python",
   "name": "python",
   "nbconvert_exporter": "python",
   "pygments_lexer": "ipython3",
   "version": "3.10.8"
  }
 },
 "nbformat": 4,
 "nbformat_minor": 2
}
