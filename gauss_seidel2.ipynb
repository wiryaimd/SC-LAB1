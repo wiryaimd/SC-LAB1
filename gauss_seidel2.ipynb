{
 "cells": [
  {
   "cell_type": "code",
   "execution_count": 82,
   "metadata": {},
   "outputs": [],
   "source": [
    "import numpy as np"
   ]
  },
  {
   "cell_type": "code",
   "execution_count": 83,
   "metadata": {},
   "outputs": [],
   "source": [
    "Xs = [\n",
    "    [10,4,5],\n",
    "    [1,6,1],\n",
    "    [3,1,6]\n",
    "]\n",
    "\n",
    "Ys = [8,5,10]"
   ]
  },
  {
   "cell_type": "code",
   "execution_count": 84,
   "metadata": {},
   "outputs": [],
   "source": [
    "def isDiagonallyDominant(x):\n",
    "    #list ke array\n",
    "    x = np.array(x)\n",
    "\n",
    "    #absolute diagonal\n",
    "    diag = np.array(np.diag(np.abs(x)))\n",
    "\n",
    "    #axis1 = row\n",
    "    #axis0 = col\n",
    "    off_diag = np.sum(np.abs(x), axis=1) - diag \n",
    "\n",
    "    if np.all(diag > off_diag):\n",
    "        return True\n",
    "    else:\n",
    "        return False"
   ]
  },
  {
   "cell_type": "code",
   "execution_count": 85,
   "metadata": {},
   "outputs": [
    {
     "name": "stdout",
     "output_type": "stream",
     "text": [
      "True\n"
     ]
    }
   ],
   "source": [
    "print(isDiagonallyDominant(Xs))\n"
   ]
  },
  {
   "cell_type": "code",
   "execution_count": 86,
   "metadata": {},
   "outputs": [],
   "source": [
    "def gauss_seidel(x, y, epsilon=0.015, t=15):\n",
    "    #1. Konversi X dan Y jadi np.array()\n",
    "    x = np.array(x)\n",
    "    y = np.array(y)\n",
    "\n",
    "    #2. Intialisasi result array using np.zeros()\n",
    "    result_old = np.zeros(len(x[0]))\n",
    "\n",
    "    #3. Simpen nilai diagonal, puter balik semuanya dan isi diagonal sebagai 0\n",
    "    diag = np.diag(x)\n",
    "    x = -x\n",
    "    np.fill_diagonal(x ,0)\n",
    "\n",
    "    #4. Start iterasi\n",
    "    for i in range(t):\n",
    "        #gauss-seidel = store newest value\n",
    "        result_new = np.array(result_old)\n",
    "\n",
    "        #5. Hitung result\n",
    "        for j, row in enumerate(x):\n",
    "            result_new[j] = (y[j] + np.dot(x[j], result_new)) / diag[j]\n",
    "\n",
    "        print(\"Iteration:\", i + 1)\n",
    "        print(result_new)\n",
    "        #6. Count euclidean distance\n",
    "        euclidean = np.sqrt(np.dot(result_new - result_old,result_new - result_old))\n",
    "\n",
    "        if euclidean < epsilon:\n",
    "            return True\n",
    "\n",
    "        #Kalau belum dapat hasilnya, store old = new\n",
    "        result_old = result_new\n",
    "\n",
    "    return False\n",
    "            \n",
    "    "
   ]
  },
  {
   "cell_type": "code",
   "execution_count": 87,
   "metadata": {},
   "outputs": [
    {
     "name": "stdout",
     "output_type": "stream",
     "text": [
      "Iteration: 1\n",
      "[0.8  0.7  1.15]\n",
      "Iteration: 2\n",
      "[-0.055       0.65083333  1.58569444]\n",
      "Iteration: 3\n",
      "[-0.25318056  0.61124769  1.69138233]\n",
      "Iteration: 4\n",
      "[-0.29019024  0.59980132  1.7117949 ]\n",
      "Iteration: 5\n",
      "[-0.29581798  0.59733718  1.71501946]\n"
     ]
    },
    {
     "data": {
      "text/plain": [
       "True"
      ]
     },
     "execution_count": 87,
     "metadata": {},
     "output_type": "execute_result"
    }
   ],
   "source": [
    "gauss_seidel(Xs,Ys)"
   ]
  },
  {
   "cell_type": "code",
   "execution_count": 88,
   "metadata": {},
   "outputs": [],
   "source": [
    "Xs = [\n",
    "    [\n",
    "        [6, -2, -3],\n",
    "        [1, -5, 2],\n",
    "        [1, 3, 7]\n",
    "    ],\n",
    "    [\n",
    "        [-6, 2, 1],\n",
    "        [3, -4, 2],\n",
    "        [2, 1, -3]\n",
    "    ],\n",
    "    [\n",
    "        [12, 10, 1],\n",
    "        [-2, -10, 3],\n",
    "        [2, 1, -10]\n",
    "    ],\n",
    "    [\n",
    "        [-3, 1, 2],\n",
    "        [2, -4, 1],\n",
    "        [1, 1, -2]\n",
    "    ],\n",
    "    [\n",
    "        [10, -2, -1],\n",
    "        [1, -13, 2],\n",
    "        [-1, -1, 8]\n",
    "    ]\n",
    "]\n",
    "\n",
    "Ys = [\n",
    "    [5, -2, 54],\n",
    "    [-4, -1, -2],\n",
    "    [-1, -2, -3],\n",
    "    [-2, -5, -1],\n",
    "    [4, -3, 2]\n",
    "]"
   ]
  },
  {
   "cell_type": "code",
   "execution_count": 89,
   "metadata": {},
   "outputs": [
    {
     "name": "stdout",
     "output_type": "stream",
     "text": [
      "Persaman ke-1\n",
      "Iteration: 1\n",
      "[0.83333333 0.56666667 7.35238095]\n",
      "Iteration: 2\n",
      "[4.6984127  4.28063492 5.20852608]\n",
      "Iteration: 3\n",
      "[4.86447468 3.45630537 5.53808703]\n",
      "Iteration: 4\n",
      "[4.75447864 3.56613054 5.50673282]\n",
      "Iteration: 5\n",
      "[4.77540992 3.55777511 5.50732353]\n",
      "Iteration: 6\n",
      "[4.77292014 3.55751344 5.50779136]\n",
      "CONVERGENT\n",
      "=============\n",
      "\n",
      "\n",
      "Persaman ke-2\n",
      "Iteration: 1\n",
      "[0.66666667 0.75       1.36111111]\n",
      "Iteration: 2\n",
      "[1.14351852 1.78819444 2.02507716]\n",
      "Iteration: 3\n",
      "[1.60024434 2.46272184 2.55440351]\n",
      "Iteration: 4\n",
      "[1.91330786 2.96218265 2.92959946]\n",
      "Iteration: 5\n",
      "[2.14232746 3.32154532 3.20206675]\n",
      "Iteration: 6\n",
      "[2.30752623 3.58167805 3.39891017]\n",
      "Iteration: 7\n",
      "[2.42704438 3.76973837 3.54127571]\n",
      "Iteration: 8\n",
      "[2.51345874 3.90573191 3.64421646]\n",
      "Iteration: 9\n",
      "[2.57594671 4.00406827 3.7186539 ]\n",
      "Iteration: 10\n",
      "[2.62113174 4.07517575 3.77247974]\n",
      "Iteration: 11\n",
      "[2.65380521 4.12659378 3.8114014 ]\n",
      "Iteration: 12\n",
      "[2.67743149 4.16377432 3.83954577]\n",
      "Iteration: 13\n",
      "[2.69451573 4.19065968 3.85989705]\n",
      "Iteration: 14\n",
      "[2.7068694  4.21010058 3.87461313]\n",
      "Iteration: 15\n",
      "[2.71580238 4.22415835 3.88525437]\n",
      "NOT CONVERGENT\n",
      "=============\n",
      "\n",
      "\n",
      "Persaman ke-3\n",
      "Iteration: 1\n",
      "[-0.08333333  0.21666667  0.305     ]\n",
      "Iteration: 2\n",
      "[-0.28930556  0.34936111  0.277075  ]\n",
      "Iteration: 3\n",
      "[-0.39755718  0.36263394  0.25675196]\n",
      "Iteration: 4\n",
      "[-0.40692428  0.35841044  0.25445619]\n",
      "CONVERGENT\n",
      "=============\n",
      "\n",
      "\n",
      "Persaman ke-4\n",
      "Iteration: 1\n",
      "[0.66666667 1.58333333 1.625     ]\n",
      "Iteration: 2\n",
      "[2.27777778 2.79513889 3.03645833]\n",
      "Iteration: 3\n",
      "[3.62268519 3.82045718 4.22157118]\n",
      "Iteration: 4\n",
      "[4.75453318 4.68265938 5.21859628]\n",
      "Iteration: 5\n",
      "[5.70661732 5.40795773 6.05728752]\n",
      "Iteration: 6\n",
      "[6.50751092 6.01807734 6.76279413]\n",
      "Iteration: 7\n",
      "[7.18122187 6.53130947 7.35626567]\n",
      "Iteration: 8\n",
      "[7.74794694 6.96303989 7.85549341]\n",
      "Iteration: 9\n",
      "[8.22467557 7.32621114 8.27544335]\n",
      "Iteration: 10\n",
      "[8.62569928 7.63171048 8.62870488]\n",
      "Iteration: 11\n",
      "[8.96304008 7.88869626 8.92586817]\n",
      "Iteration: 12\n",
      "[9.24681087 8.10487248 9.17584167]\n",
      "Iteration: 13\n",
      "[9.48551861 8.28671972 9.38611916]\n",
      "Iteration: 14\n",
      "[9.68631935 8.43968947 9.56300441]\n",
      "Iteration: 15\n",
      "[9.85523276 8.56836748 9.71180012]\n",
      "NOT CONVERGENT\n",
      "=============\n",
      "\n",
      "\n",
      "Persaman ke-5\n",
      "Iteration: 1\n",
      "[0.4        0.26153846 0.33269231]\n",
      "Iteration: 2\n",
      "[0.48557692 0.31930473 0.35061021]\n",
      "Iteration: 3\n",
      "[0.49892197 0.32308788 0.35275123]\n",
      "CONVERGENT\n",
      "=============\n",
      "\n",
      "\n"
     ]
    }
   ],
   "source": [
    "for i, (X,Y) in enumerate(zip(Xs,Ys)):\n",
    "    print(f'Persaman ke-{i+1}')\n",
    "    # Bisa tambahin diagonally dominant check disini\n",
    "    if gauss_seidel(X,Y):\n",
    "        print(\"CONVERGENT\")\n",
    "    else:\n",
    "        print(\"NOT CONVERGENT\")\n",
    "    print('=============\\n\\n')"
   ]
  }
 ],
 "metadata": {
  "kernelspec": {
   "display_name": "Python 3",
   "language": "python",
   "name": "python3"
  },
  "language_info": {
   "codemirror_mode": {
    "name": "ipython",
    "version": 3
   },
   "file_extension": ".py",
   "mimetype": "text/x-python",
   "name": "python",
   "nbconvert_exporter": "python",
   "pygments_lexer": "ipython3",
   "version": "3.10.8"
  }
 },
 "nbformat": 4,
 "nbformat_minor": 2
}
