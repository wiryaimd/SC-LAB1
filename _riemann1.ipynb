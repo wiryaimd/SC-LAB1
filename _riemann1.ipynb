{
 "cells": [
  {
   "cell_type": "code",
   "execution_count": 5,
   "metadata": {},
   "outputs": [],
   "source": [
    "import numpy as np\n",
    "\n"
   ]
  },
  {
   "cell_type": "code",
   "execution_count": 6,
   "metadata": {},
   "outputs": [],
   "source": [
    "\n",
    "def f(x):\n",
    "    return 12 * (x**3) - 9 * (x ** 2) + 2"
   ]
  },
  {
   "cell_type": "code",
   "execution_count": 32,
   "metadata": {},
   "outputs": [
    {
     "name": "stdout",
     "output_type": "stream",
     "text": [
      "[0.00000000e+00 2.00066689e-03 4.00133378e-03 ... 5.99599867e+00\n",
      " 5.99799933e+00 6.00000000e+00]\n",
      "lr  3249.731640012048\n",
      "rr  3254.2691525162168\n",
      "tr  3250914.398132711\n"
     ]
    }
   ],
   "source": [
    "a = 0\n",
    "b = 6\n",
    "\n",
    "\n",
    "n = 3000\n",
    "w = (b - a) / (n - 1)\n",
    "x = np.linspace(a, b, n)\n",
    "\n",
    "print(x)\n",
    "# print(np.info(np.linspace))\n",
    "\n",
    "lr = w * np.sum(f(x[:-1]))\n",
    "print(\"lr \", lr)\n",
    "# lr2 = np.sum(f(x) * x)\n",
    "# print(lr2)\n",
    "\n",
    "rr = w * np.sum(f(x[1:]))\n",
    "print(\"rr \", rr)\n",
    "\n",
    "mid = (x[1:] + x[:-1]) / 2\n",
    "mr = w * np.sum(f(mid))\n",
    "\n",
    "\n",
    "trapezoid = w/2 * f(x[0]) + np.sum(f(x[1:-1]) * 2) + f(x[n - 1])\n",
    "print(\"tr \", trapezoid)\n",
    "\n",
    "\n"
   ]
  },
  {
   "cell_type": "code",
   "execution_count": null,
   "metadata": {},
   "outputs": [],
   "source": []
  }
 ],
 "metadata": {
  "kernelspec": {
   "display_name": "Python 3",
   "language": "python",
   "name": "python3"
  },
  "language_info": {
   "codemirror_mode": {
    "name": "ipython",
    "version": 3
   },
   "file_extension": ".py",
   "mimetype": "text/x-python",
   "name": "python",
   "nbconvert_exporter": "python",
   "pygments_lexer": "ipython3",
   "version": "3.10.8"
  }
 },
 "nbformat": 4,
 "nbformat_minor": 2
}
