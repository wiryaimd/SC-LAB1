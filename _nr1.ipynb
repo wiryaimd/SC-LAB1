{
 "cells": [
  {
   "cell_type": "code",
   "execution_count": 36,
   "metadata": {},
   "outputs": [],
   "source": [
    "import numpy as np\n",
    "import math\n",
    "from scipy.misc import derivative # using derivative function or"
   ]
  },
  {
   "cell_type": "code",
   "execution_count": 41,
   "metadata": {},
   "outputs": [
    {
     "name": "stdout",
     "output_type": "stream",
     "text": [
      "7.999999999785955\n"
     ]
    },
    {
     "name": "stderr",
     "output_type": "stream",
     "text": [
      "C:\\Users\\adnya\\AppData\\Local\\Temp\\ipykernel_20944\\1931805673.py:15: DeprecationWarning: scipy.misc.derivative is deprecated in SciPy v1.10.0; and will be completely removed in SciPy v1.12.0. You may consider using findiff: https://github.com/maroba/findiff or numdifftools: https://github.com/pbrod/numdifftools\n",
      "  derivative(f, x0, dx=1e-6)\n"
     ]
    },
    {
     "data": {
      "text/plain": [
       "8.000000000230045"
      ]
     },
     "execution_count": 41,
     "metadata": {},
     "output_type": "execute_result"
    }
   ],
   "source": [
    "\n",
    "def f(x):\n",
    "    return x**2 - 5\n",
    "\n",
    "\n",
    "def fp(x):\n",
    "    h = 1e-5\n",
    "    return (f(x + h) - f(x - h)) / (2*h)\n",
    "\n",
    "# find using finite differentation\n",
    "res = fp(4)\n",
    "print(res)\n",
    "\n",
    "# 2x - 5\n",
    "x0 = 4\n",
    "derivative(f, x0, dx=1e-6)\n",
    "\n"
   ]
  },
  {
   "cell_type": "code",
   "execution_count": 48,
   "metadata": {},
   "outputs": [
    {
     "name": "stdout",
     "output_type": "stream",
     "text": [
      "2.234375\n"
     ]
    }
   ],
   "source": [
    "# bisection\n",
    "def bisc(a, b, tolerance = 0.01):\n",
    "    if(np.sign(f(a)) == np.sign(f(b))):\n",
    "        print(\"invalid a and b\")\n",
    "        return\n",
    "    \n",
    "    c = (a + b) / 2\n",
    "    if(np.abs(f(c)) < tolerance):\n",
    "        print(c)\n",
    "        return\n",
    "    \n",
    "    if(np.sign(f(c)) == np.sign(f(a))):\n",
    "        bisc(c, b)\n",
    "    elif(np.sign(f(c)) == np.sign(f(b))):\n",
    "        bisc(a, c)\n",
    "\n",
    "bisc(2, 5)\n"
   ]
  },
  {
   "cell_type": "code",
   "execution_count": 44,
   "metadata": {},
   "outputs": [
    {
     "name": "stdout",
     "output_type": "stream",
     "text": [
      "x0  2.3333333333377007\n",
      "x0  2.238095238096768\n",
      "res  2.238095238096768\n"
     ]
    }
   ],
   "source": [
    "# newton-raphson\n",
    "\n",
    "# step turunkan fungsi\n",
    "# x0 - (f(x0) / f'(x0))\n",
    "\n",
    "def nr(x, tolerance = 0.01):\n",
    "    x0 = x - (f(x) / fp(x))\n",
    "    print(\"x0 \", x0)\n",
    "    if(np.abs(f(x0)) < tolerance):\n",
    "        print(\"res \", x0)\n",
    "        return\n",
    "    \n",
    "    nr(x0)\n",
    "\n",
    "nr(3)\n"
   ]
  }
 ],
 "metadata": {
  "kernelspec": {
   "display_name": "Python 3",
   "language": "python",
   "name": "python3"
  },
  "language_info": {
   "codemirror_mode": {
    "name": "ipython",
    "version": 3
   },
   "file_extension": ".py",
   "mimetype": "text/x-python",
   "name": "python",
   "nbconvert_exporter": "python",
   "pygments_lexer": "ipython3",
   "version": "3.10.8"
  }
 },
 "nbformat": 4,
 "nbformat_minor": 2
}
